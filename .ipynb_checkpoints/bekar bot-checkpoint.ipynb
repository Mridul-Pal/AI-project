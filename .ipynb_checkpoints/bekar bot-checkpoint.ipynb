{
 "cells": [
  {
   "cell_type": "code",
   "execution_count": 2,
   "metadata": {},
   "outputs": [
    {
     "ename": "ModuleNotFoundError",
     "evalue": "No module named 'chatterbot'",
     "output_type": "error",
     "traceback": [
      "\u001b[1;31m---------------------------------------------------------------------------\u001b[0m",
      "\u001b[1;31mModuleNotFoundError\u001b[0m                       Traceback (most recent call last)",
      "\u001b[1;32m<ipython-input-2-49497b270908>\u001b[0m in \u001b[0;36m<module>\u001b[1;34m\u001b[0m\n\u001b[0;32m     10\u001b[0m       \"I am still not feeling well\",\"okay,then you should consult your doctor\",\"I have a cough\",\"You should take a spoon full of benadryl after your meal\",\"ok\",\"take rest\",\" my throat is itching\",\"Okay, this is a symptom of cough,You should take a spoon full of benadryl after your meal\"]\n\u001b[0;32m     11\u001b[0m \u001b[1;33m\u001b[0m\u001b[0m\n\u001b[1;32m---> 12\u001b[1;33m \u001b[1;32mfrom\u001b[0m \u001b[0mchatterbot\u001b[0m \u001b[1;32mimport\u001b[0m \u001b[0mChatBot\u001b[0m\u001b[1;33m\u001b[0m\u001b[1;33m\u001b[0m\u001b[0m\n\u001b[0m\u001b[0;32m     13\u001b[0m \u001b[1;32mfrom\u001b[0m \u001b[0mchatterbot\u001b[0m\u001b[1;33m.\u001b[0m\u001b[0mtrainers\u001b[0m \u001b[1;32mimport\u001b[0m \u001b[0mListTrainer\u001b[0m\u001b[1;33m\u001b[0m\u001b[1;33m\u001b[0m\u001b[0m\n\u001b[0;32m     14\u001b[0m \u001b[1;31m#import os\u001b[0m\u001b[1;33m\u001b[0m\u001b[1;33m\u001b[0m\u001b[1;33m\u001b[0m\u001b[0m\n",
      "\u001b[1;31mModuleNotFoundError\u001b[0m: No module named 'chatterbot'"
     ]
    }
   ],
   "source": [
    "conv=[\"hi\",\"hello,Welcome to MediCare\",\"how are you\",\"i m fine, what about you\",\"i am not feeling well\",\"please tell your symptoms\"]\n",
    "conv1=[\"My body temperature has raised.\",\"This is a symptom of fever, you should take a tablet of crocin after you have your meal.\",\"Ok, i will take the crocin.\",\"ok,take care\",\"thankuu\",\"welcome\",\"I am shivering\",\"This is a symptom of fever, you should take a tablet of crocin after you have your meal.\",\n",
    "       \"ok,fine\",\"get well soon\",\"thankyou\",\"your welcome\",\"I am feeling weak.\",\"This is a symptom of fever, you should take a tablet of crocin after you have your meal.\",\"ok,thank you\",\"take care, get well soon\"]\n",
    "conv2=[\"my hand is aching.\",\"okay, did you get hurt, or it is a suddern aching.\",\"my joint is aching.\",\n",
    "       \"okay, did you get hurt, or it is a suddern aching.\",\"yes i got hurt.\",\n",
    "       \"ok, is there a swelling or a physical deformity or bleeding at the aching region.\",\"yes there is a swelling\",\n",
    "       \"it is a common symptom of fracture, should I book an an appointment for you.\",\"yes there is a physical deformity.\",\n",
    "\"it is a common symptom of fracture,you should go and see a doctor immediately.\"]\n",
    "conv3=[\"my nose is choked\",\"Okay, this is a symptom of cold,You should take a sudafed tablet after your meal.\",\n",
    "      \"I am still not feeling well\",\"okay,then you should consult your doctor\",\"I have a cough\",\"You should take a spoon full of benadryl after your meal\",\"ok\",\"take rest\",\" my throat is itching\",\"Okay, this is a symptom of cough,You should take a spoon full of benadryl after your meal\"]\n",
    "\n",
    "from chatterbot import ChatBot\n",
    "from chatterbot.trainers import ListTrainer\n",
    "#import os\n",
    "\n",
    "try:\n",
    "\tos.remove(\"db.sqlite3\")\n",
    "\tprint(\"Old database removed. Training new database\")\n",
    "except:\n",
    "\tprint('No database found. Creating new database.')\n",
    "\n",
    "english_bot = ChatBot('Bot')\n",
    "trainer=ListTrainer(english_bot)\n",
    "trainer.train(conv)\n",
    "trainer.train(conv1)\n",
    "trainer.train(conv2)\n",
    "trainer.train(conv3)\n",
    "\n",
    "\n",
    "\n",
    "from chatterbot import ChatBot\n",
    "from tkinter import *\n",
    "i=0\n",
    "def ptr():\n",
    "    global i\n",
    "    f=e.get()\n",
    "    w=Label(r,text=\"You: \"+e.get(),bg='lightgreen').grid(row=i,column=2)\n",
    "    i+=1\n",
    "    t=english_bot.get_response(f)\n",
    "    ans=str(t)\n",
    "    w=Label(r,text=\"Bot: \"+ans,bg='white').grid(row=i,column=0)\t\n",
    "    e.delete(0,END)    \n",
    "    i+=1\n",
    "r=Tk()\n",
    "r.title('chatbot')\n",
    "r.geometry(\"480x550\") \n",
    "e=Entry(r)\n",
    "e.grid(row=20,column=1)\n",
    "b=Button(r,text=\"Send\",width=10,command=ptr)\n",
    "b.grid(row=20,column=2)\n",
    "i=i+1\n",
    "mainloop()\n"
   ]
  },
  {
   "cell_type": "code",
   "execution_count": null,
   "metadata": {},
   "outputs": [],
   "source": []
  }
 ],
 "metadata": {
  "kernelspec": {
   "display_name": "Python 3",
   "language": "python",
   "name": "python3"
  },
  "language_info": {
   "codemirror_mode": {
    "name": "ipython",
    "version": 3
   },
   "file_extension": ".py",
   "mimetype": "text/x-python",
   "name": "python",
   "nbconvert_exporter": "python",
   "pygments_lexer": "ipython3",
   "version": "3.7.7"
  }
 },
 "nbformat": 4,
 "nbformat_minor": 2
}
